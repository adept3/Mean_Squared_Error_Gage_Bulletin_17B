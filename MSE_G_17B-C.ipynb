{
 "cells": [
  {
   "cell_type": "code",
   "execution_count": 24,
   "metadata": {
    "collapsed": true
   },
   "outputs": [],
   "source": [
    "import numpy as np"
   ]
  },
  {
   "cell_type": "code",
   "execution_count": 25,
   "metadata": {
    "collapsed": true
   },
   "outputs": [],
   "source": [
    "def MSE_G(A, B, N):\n",
    "    return 10**(A-(B*(np.log10(N/10.0))))"
   ]
  },
  {
   "cell_type": "code",
   "execution_count": 26,
   "metadata": {
    "collapsed": false
   },
   "outputs": [],
   "source": [
    "def A(G):\n",
    "    if abs(G) > 0.90:\n",
    "        A = -0.52 + (0.30 * abs(G))\n",
    "    else:\n",
    "        A = -0.33 + (0.08 * abs (G))\n",
    "    return A"
   ]
  },
  {
   "cell_type": "code",
   "execution_count": 27,
   "metadata": {
    "collapsed": true
   },
   "outputs": [],
   "source": [
    "def B(G):\n",
    "    if abs(G) > 1.50:\n",
    "        B = 0.55\n",
    "        return B\n",
    "    else:\n",
    "        B = 0.94 - (0.26 * abs (G))\n",
    "        return B"
   ]
  },
  {
   "cell_type": "code",
   "execution_count": 28,
   "metadata": {
    "collapsed": false
   },
   "outputs": [
    {
     "data": {
      "text/plain": [
       "0.24379893496704425"
      ]
     },
     "execution_count": 28,
     "metadata": {},
     "output_type": "execute_result"
    }
   ],
   "source": [
    "MSE_G(A(0.0),B(0.0),20)"
   ]
  },
  {
   "cell_type": "code",
   "execution_count": 34,
   "metadata": {
    "collapsed": false
   },
   "outputs": [
    {
     "name": "stdout",
     "output_type": "stream",
     "text": [
      "Enter Regional Skew: 0.0\n",
      "Enter Regional Skew Record Length: 20\n",
      "('The MSE with parameters', 0.0, 'and', 20, 'is', 0.24379893496704425, '.')\n"
     ]
    }
   ],
   "source": [
    "x = float(input(\"Enter Regional Skew: \"))\n",
    "y = int(input(\"Enter Regional Skew Record Length: \"))\n",
    "value = MSE_G(A(x),B(x),y)\n",
    "print('The MSE with parameters', x, 'and', y, 'is', value, '.')"
   ]
  },
  {
   "cell_type": "code",
   "execution_count": 36,
   "metadata": {
    "collapsed": false
   },
   "outputs": [
    {
     "name": "stderr",
     "output_type": "stream",
     "text": [
      "[NbConvertApp] Converting notebook MSE__G_17B-C.ipynb to script\n",
      "[NbConvertApp] Writing 657 bytes to MSE__G_17B-C.py\n"
     ]
    }
   ],
   "source": [
    "!jupyter nbconvert --to script MSE_G_17B-C.ipynb"
   ]
  },
  {
   "cell_type": "code",
   "execution_count": null,
   "metadata": {
    "collapsed": true
   },
   "outputs": [],
   "source": []
  }
 ],
 "metadata": {
  "kernelspec": {
   "display_name": "Python 2",
   "language": "python",
   "name": "python2"
  },
  "language_info": {
   "codemirror_mode": {
    "name": "ipython",
    "version": 2
   },
   "file_extension": ".py",
   "mimetype": "text/x-python",
   "name": "python",
   "nbconvert_exporter": "python",
   "pygments_lexer": "ipython2",
   "version": "2.7.10"
  }
 },
 "nbformat": 4,
 "nbformat_minor": 2
}
